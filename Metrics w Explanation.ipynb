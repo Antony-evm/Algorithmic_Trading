{
 "cells": [
  {
   "cell_type": "code",
   "execution_count": 39,
   "id": "practical-christopher",
   "metadata": {},
   "outputs": [],
   "source": [
    "import pandas as pd\n",
    "import numpy as np\n",
    "import scipy.stats"
   ]
  },
  {
   "cell_type": "code",
   "execution_count": 40,
   "id": "parallel-clerk",
   "metadata": {},
   "outputs": [],
   "source": [
    "df = pd.read_parquet('Ticker Data/Tickers/HSBA.parquet')\n",
    "df = df[['Close']]"
   ]
  },
  {
   "cell_type": "markdown",
   "id": "delayed-pharmaceutical",
   "metadata": {},
   "source": [
    "## Returns\n",
    "\n",
    "A return is the change in price of an asset, investment, or project over time, which may be represented in terms of price change or percentage change.\n",
    "\n",
    "A positive return represents a profit while a negative return marks a loss.\n",
    "\n",
    "Returns are often annualized for comparison purposes, while a holding period return calculates the gain or loss during the entire period an investment was held.\n",
    "\n",
    "### ROI\n",
    "\n",
    "A percentage return is a return expressed as a percentage. It is known as the return on investment (ROI). ROI is the return per dollar invested. ROI is calculated by dividing the dollar return by the initial dollar investment."
   ]
  },
  {
   "cell_type": "code",
   "execution_count": 41,
   "id": "spare-aaron",
   "metadata": {},
   "outputs": [],
   "source": [
    "def get_returns(rets):\n",
    "    return rets.pct_change().dropna()\n",
    "rets = get_returns(df)"
   ]
  },
  {
   "cell_type": "code",
   "execution_count": 42,
   "id": "statistical-spain",
   "metadata": {},
   "outputs": [
    {
     "data": {
      "text/plain": [
       "Close    13.859458\n",
       "dtype: float64"
      ]
     },
     "execution_count": 42,
     "metadata": {},
     "output_type": "execute_result"
    }
   ],
   "source": [
    "def compound_returns(rets):\n",
    "    return np.expm1(np.log1p(rets).sum())+1\n",
    "\n",
    "compound_returns(rets)"
   ]
  },
  {
   "cell_type": "code",
   "execution_count": 43,
   "id": "apart-costs",
   "metadata": {},
   "outputs": [
    {
     "data": {
      "text/plain": [
       "Close    1.077252\n",
       "dtype: float64"
      ]
     },
     "execution_count": 43,
     "metadata": {},
     "output_type": "execute_result"
    }
   ],
   "source": [
    "def annualize_rets(rets, periods_per_year):\n",
    "    compounded_growth = compound_returns(rets)\n",
    "    n_periods = rets.shape[0]\n",
    "    return compounded_growth**(periods_per_year/n_periods)\n",
    "\n",
    "annualize_rets(rets,252)"
   ]
  },
  {
   "cell_type": "markdown",
   "id": "breathing-willow",
   "metadata": {},
   "source": [
    "## Skewness\n",
    "\n",
    "Skewness is a measurement of the distortion of symmetrical distribution or asymmetry in a data set. Skewness is demonstrated on a bell curve when data points are not distributed symmetrically to the left and right sides of the median on a bell curve. If the bell curve is shifted to the left or the right, it is said to be skewed.\n",
    "\n",
    "Skewness can be quantified as a representation of the extent to which a given distribution varies from a normal distribution.\n",
    "\n",
    "Investors note skewness when judging a return distribution because it considers the extremes of the data set rather than focusing solely on the average.\n",
    "\n",
    "A relatively high positive skewness reading indicates returns deep in the right tail of the distribution. A negative number equates with a loss in the left tail. In short, skewness offers a straightforward tool for quantifying and monitoring tail risk."
   ]
  },
  {
   "cell_type": "code",
   "execution_count": 45,
   "id": "grateful-nation",
   "metadata": {},
   "outputs": [
    {
     "data": {
      "text/plain": [
       "0.032838513828991236"
      ]
     },
     "execution_count": 45,
     "metadata": {},
     "output_type": "execute_result"
    }
   ],
   "source": [
    "def skewness(rets):\n",
    "    return scipy.stats.skew(rets)[0]\n",
    "\n",
    "skewness(rets)"
   ]
  },
  {
   "cell_type": "markdown",
   "id": "theoretical-shanghai",
   "metadata": {},
   "source": [
    "## Kurtosis\n",
    "\n",
    "Distributions with a large kurtosis have more tail data than normally distributed data, which appears to bring the tails in toward the mean. Distributions with low kurtosis have fewer tail data, which appears to push the tails of the bell curve away from the mean.\n",
    "\n",
    "For investors, high kurtosis of the return distribution curve implies that there have been many price fluctuations in the past (positive or negative) away from the average returns for the investment. So, an investor might experience extreme price fluctuations with an investment with high kurtosis. This phenomenon is known as kurtosis risk.\n",
    "\n",
    "### Mesokurtic (kurtosis = 3.0)\n",
    "The first category of kurtosis is mesokurtic distribution. This distribution has a kurtosis similar to that of the normal distribution, meaning the extreme value characteristic of the distribution is similar to that of a normal distribution. Therefore, a stock with a mesokurtic distribution generally depicts a moderate level of risk.\n",
    "\n",
    "### Leptokurtic (kurtosis > 3.0)\n",
    "The second category is leptokurtic distribution. Any distribution that is leptokurtic displays greater kurtosis than a mesokurtic distribution. This distribution appears as a curve one with long tails (outliers.) The \"skinniness\" of a leptokurtic distribution is a consequence of the outliers, which stretch the horizontal axis of the histogram graph, making the bulk of the data appear in a narrow (\"skinny\") vertical range.\n",
    "\n",
    "A stock with a leptokurtic distribution generally depicts a high level of risk but the possibility of higher returns because the stock has typically demonstrated large price movements.\n",
    "\n",
    "### Platykurtic (kurtosis < 3.0)\n",
    "The final type of distribution is platykurtic distribution. These types of distributions have short tails (fewer outliers.). Platykurtic distributions have demonstrated more stability than other curves because extreme price movements rarely occurred in the past. This translates into a less-than-moderate level of risk."
   ]
  },
  {
   "cell_type": "code",
   "execution_count": 48,
   "id": "registered-comfort",
   "metadata": {},
   "outputs": [
    {
     "data": {
      "text/plain": [
       "7.214443984922859"
      ]
     },
     "execution_count": 48,
     "metadata": {},
     "output_type": "execute_result"
    }
   ],
   "source": [
    "def kurtosis(rets):\n",
    "    return scipy.stats.kurtosis(rets)[0]\n",
    "kurtosis(rets)"
   ]
  },
  {
   "cell_type": "code",
   "execution_count": null,
   "id": "statutory-muscle",
   "metadata": {},
   "outputs": [],
   "source": []
  }
 ],
 "metadata": {
  "kernelspec": {
   "display_name": "Python 3",
   "language": "python",
   "name": "python3"
  },
  "language_info": {
   "codemirror_mode": {
    "name": "ipython",
    "version": 3
   },
   "file_extension": ".py",
   "mimetype": "text/x-python",
   "name": "python",
   "nbconvert_exporter": "python",
   "pygments_lexer": "ipython3",
   "version": "3.9.2"
  }
 },
 "nbformat": 4,
 "nbformat_minor": 5
}
