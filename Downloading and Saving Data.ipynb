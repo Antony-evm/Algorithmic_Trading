{
 "cells": [
  {
   "cell_type": "code",
   "execution_count": 1,
   "id": "bigger-durham",
   "metadata": {},
   "outputs": [],
   "source": [
    "import pandas as pd\n",
    "from get_tickers import reload_tickers as rt\n",
    "from get_tickers import reload_ticker_data as rdt\n",
    "%load_ext autoreload\n",
    "%autoreload 2"
   ]
  },
  {
   "cell_type": "code",
   "execution_count": 2,
   "id": "presidential-fireplace",
   "metadata": {},
   "outputs": [],
   "source": [
    "sp500_tickers = rt.reload_SP500_tickers()\n",
    "ftse100_tickers = rt.reload_FTSE100_tickers()"
   ]
  },
  {
   "cell_type": "code",
   "execution_count": null,
   "id": "ceramic-yesterday",
   "metadata": {
    "scrolled": true
   },
   "outputs": [
    {
     "name": "stdout",
     "output_type": "stream",
     "text": [
      "Downloading SP500\n",
      "[*********************100%***********************]  1 of 1 completed\n",
      "Downloading FTSE100\n",
      "[*********************100%***********************]  1 of 1 completed\n",
      "Downloading MMM\n",
      "[*********************100%***********************]  1 of 1 completed\n",
      "Downloading AOS\n",
      "[*********************100%***********************]  1 of 1 completed\n",
      "Downloading ABT\n",
      "[*********************100%***********************]  1 of 1 completed\n",
      "Downloading ABBV\n",
      "[*********************100%***********************]  1 of 1 completed\n",
      "Downloading ACN\n",
      "[*********************100%***********************]  1 of 1 completed\n",
      "Downloading ATVI\n",
      "[*********************100%***********************]  1 of 1 completed\n",
      "Downloading ADM\n",
      "[*********************100%***********************]  1 of 1 completed\n",
      "Downloading ADBE\n",
      "[*********************100%***********************]  1 of 1 completed\n",
      "Downloading ADP\n",
      "[*********************100%***********************]  1 of 1 completed\n",
      "Downloading AAP\n",
      "[*********************100%***********************]  1 of 1 completed\n",
      "Downloading AES\n",
      "[*********************100%***********************]  1 of 1 completed\n",
      "Downloading AFL\n",
      "[*********************100%***********************]  1 of 1 completed\n",
      "Downloading A\n",
      "[*********************100%***********************]  1 of 1 completed\n",
      "Downloading APD\n",
      "[*********************100%***********************]  1 of 1 completed\n",
      "Downloading AKAM\n",
      "[*********************100%***********************]  1 of 1 completed\n",
      "Downloading ALK\n",
      "[*********************100%***********************]  1 of 1 completed\n",
      "Downloading ALB\n",
      "[*********************100%***********************]  1 of 1 completed\n",
      "Downloading ARE\n",
      "[*********************100%***********************]  1 of 1 completed\n",
      "Downloading ALGN\n",
      "[*********************100%***********************]  1 of 1 completed\n",
      "Downloading ALLE\n",
      "[*********************100%***********************]  1 of 1 completed\n",
      "Downloading LNT\n",
      "[*********************100%***********************]  1 of 1 completed\n",
      "Downloading ALL\n",
      "[*********************100%***********************]  1 of 1 completed\n",
      "Downloading GOOGL\n",
      "[*********************100%***********************]  1 of 1 completed\n",
      "Downloading GOOG\n",
      "[*********************100%***********************]  1 of 1 completed\n",
      "Downloading MO\n"
     ]
    }
   ],
   "source": [
    "rdt.save_indexes()\n",
    "rdt.save_tickers(sp500_tickers['Ticker'].to_list())\n",
    "rdt.save_tickers(ftse100_tickers['Ticker'].to_list())"
   ]
  },
  {
   "cell_type": "code",
   "execution_count": null,
   "id": "marked-active",
   "metadata": {},
   "outputs": [],
   "source": []
  }
 ],
 "metadata": {
  "kernelspec": {
   "display_name": "Python 3",
   "language": "python",
   "name": "python3"
  },
  "language_info": {
   "codemirror_mode": {
    "name": "ipython",
    "version": 3
   },
   "file_extension": ".py",
   "mimetype": "text/x-python",
   "name": "python",
   "nbconvert_exporter": "python",
   "pygments_lexer": "ipython3",
   "version": "3.9.2"
  }
 },
 "nbformat": 4,
 "nbformat_minor": 5
}
